{
 "cells": [
  {
   "cell_type": "markdown",
   "metadata": {},
   "source": [
    "Basic Example with Ollama"
   ]
  },
  {
   "cell_type": "code",
   "execution_count": 6,
   "metadata": {},
   "outputs": [
    {
     "name": "stdout",
     "output_type": "stream",
     "text": [
      "Defaulting to user installation because normal site-packages is not writeable\n",
      "Requirement already satisfied: pydantic_ai in /home/user1/.local/lib/python3.9/site-packages (0.0.14)\n",
      "Requirement already satisfied: nest_asyncio in /home/user1/.local/lib/python3.9/site-packages (1.6.0)\n",
      "Requirement already satisfied: pydantic-ai-slim[anthropic,groq,mistral,openai,vertexai]==0.0.14 in /home/user1/.local/lib/python3.9/site-packages (from pydantic_ai) (0.0.14)\n",
      "Requirement already satisfied: pydantic>=2.10 in /home/user1/.local/lib/python3.9/site-packages (from pydantic-ai-slim[anthropic,groq,mistral,openai,vertexai]==0.0.14->pydantic_ai) (2.10.4)\n",
      "Requirement already satisfied: logfire-api>=1.2.0 in /home/user1/.local/lib/python3.9/site-packages (from pydantic-ai-slim[anthropic,groq,mistral,openai,vertexai]==0.0.14->pydantic_ai) (2.9.0)\n",
      "Requirement already satisfied: httpx>=0.27.2 in /home/user1/.local/lib/python3.9/site-packages (from pydantic-ai-slim[anthropic,groq,mistral,openai,vertexai]==0.0.14->pydantic_ai) (0.27.2)\n",
      "Requirement already satisfied: griffe>=1.3.2 in /home/user1/.local/lib/python3.9/site-packages (from pydantic-ai-slim[anthropic,groq,mistral,openai,vertexai]==0.0.14->pydantic_ai) (1.5.1)\n",
      "Requirement already satisfied: eval-type-backport>=0.2.0 in /home/user1/.local/lib/python3.9/site-packages (from pydantic-ai-slim[anthropic,groq,mistral,openai,vertexai]==0.0.14->pydantic_ai) (0.2.2)\n",
      "Requirement already satisfied: anthropic>=0.40.0 in /home/user1/.local/lib/python3.9/site-packages (from pydantic-ai-slim[anthropic,groq,mistral,openai,vertexai]==0.0.14->pydantic_ai) (0.42.0)\n",
      "Requirement already satisfied: json-repair>=0.30.3 in /home/user1/.local/lib/python3.9/site-packages (from pydantic-ai-slim[anthropic,groq,mistral,openai,vertexai]==0.0.14->pydantic_ai) (0.32.0)\n",
      "Requirement already satisfied: mistralai>=1.2.5 in /home/user1/.local/lib/python3.9/site-packages (from pydantic-ai-slim[anthropic,groq,mistral,openai,vertexai]==0.0.14->pydantic_ai) (1.2.5)\n",
      "Requirement already satisfied: google-auth>=2.36.0 in /home/user1/.local/lib/python3.9/site-packages (from pydantic-ai-slim[anthropic,groq,mistral,openai,vertexai]==0.0.14->pydantic_ai) (2.37.0)\n",
      "Requirement already satisfied: requests>=2.32.3 in /home/user1/.local/lib/python3.9/site-packages (from pydantic-ai-slim[anthropic,groq,mistral,openai,vertexai]==0.0.14->pydantic_ai) (2.32.3)\n",
      "Requirement already satisfied: openai>=1.54.3 in /home/user1/.local/lib/python3.9/site-packages (from pydantic-ai-slim[anthropic,groq,mistral,openai,vertexai]==0.0.14->pydantic_ai) (1.58.1)\n",
      "Requirement already satisfied: groq>=0.12.0 in /home/user1/.local/lib/python3.9/site-packages (from pydantic-ai-slim[anthropic,groq,mistral,openai,vertexai]==0.0.14->pydantic_ai) (0.13.1)\n",
      "Requirement already satisfied: jiter<1,>=0.4.0 in /home/user1/.local/lib/python3.9/site-packages (from anthropic>=0.40.0->pydantic-ai-slim[anthropic,groq,mistral,openai,vertexai]==0.0.14->pydantic_ai) (0.6.1)\n",
      "Requirement already satisfied: sniffio in /home/user1/.local/lib/python3.9/site-packages (from anthropic>=0.40.0->pydantic-ai-slim[anthropic,groq,mistral,openai,vertexai]==0.0.14->pydantic_ai) (1.3.1)\n",
      "Requirement already satisfied: distro<2,>=1.7.0 in /home/user1/.local/lib/python3.9/site-packages (from anthropic>=0.40.0->pydantic-ai-slim[anthropic,groq,mistral,openai,vertexai]==0.0.14->pydantic_ai) (1.9.0)\n",
      "Requirement already satisfied: anyio<5,>=3.5.0 in /home/user1/.local/lib/python3.9/site-packages (from anthropic>=0.40.0->pydantic-ai-slim[anthropic,groq,mistral,openai,vertexai]==0.0.14->pydantic_ai) (4.7.0)\n",
      "Requirement already satisfied: typing-extensions<5,>=4.10 in /home/user1/.local/lib/python3.9/site-packages (from anthropic>=0.40.0->pydantic-ai-slim[anthropic,groq,mistral,openai,vertexai]==0.0.14->pydantic_ai) (4.12.2)\n",
      "Requirement already satisfied: cachetools<6.0,>=2.0.0 in /home/user1/.local/lib/python3.9/site-packages (from google-auth>=2.36.0->pydantic-ai-slim[anthropic,groq,mistral,openai,vertexai]==0.0.14->pydantic_ai) (5.5.0)\n",
      "Requirement already satisfied: pyasn1-modules>=0.2.1 in /home/user1/.local/lib/python3.9/site-packages (from google-auth>=2.36.0->pydantic-ai-slim[anthropic,groq,mistral,openai,vertexai]==0.0.14->pydantic_ai) (0.4.1)\n",
      "Requirement already satisfied: rsa<5,>=3.1.4 in /home/user1/.local/lib/python3.9/site-packages (from google-auth>=2.36.0->pydantic-ai-slim[anthropic,groq,mistral,openai,vertexai]==0.0.14->pydantic_ai) (4.9)\n",
      "Requirement already satisfied: colorama>=0.4 in /home/user1/.local/lib/python3.9/site-packages (from griffe>=1.3.2->pydantic-ai-slim[anthropic,groq,mistral,openai,vertexai]==0.0.14->pydantic_ai) (0.4.6)\n",
      "Requirement already satisfied: httpcore==1.* in /home/user1/.local/lib/python3.9/site-packages (from httpx>=0.27.2->pydantic-ai-slim[anthropic,groq,mistral,openai,vertexai]==0.0.14->pydantic_ai) (1.0.7)\n",
      "Requirement already satisfied: idna in /home/user1/.local/lib/python3.9/site-packages (from httpx>=0.27.2->pydantic-ai-slim[anthropic,groq,mistral,openai,vertexai]==0.0.14->pydantic_ai) (3.10)\n",
      "Requirement already satisfied: certifi in /home/user1/.local/lib/python3.9/site-packages (from httpx>=0.27.2->pydantic-ai-slim[anthropic,groq,mistral,openai,vertexai]==0.0.14->pydantic_ai) (2024.12.14)\n",
      "Requirement already satisfied: h11<0.15,>=0.13 in /home/user1/.local/lib/python3.9/site-packages (from httpcore==1.*->httpx>=0.27.2->pydantic-ai-slim[anthropic,groq,mistral,openai,vertexai]==0.0.14->pydantic_ai) (0.14.0)\n",
      "Requirement already satisfied: typing-inspect<0.10.0,>=0.9.0 in /home/user1/.local/lib/python3.9/site-packages (from mistralai>=1.2.5->pydantic-ai-slim[anthropic,groq,mistral,openai,vertexai]==0.0.14->pydantic_ai) (0.9.0)\n",
      "Requirement already satisfied: jsonpath-python<2.0.0,>=1.0.6 in /home/user1/.local/lib/python3.9/site-packages (from mistralai>=1.2.5->pydantic-ai-slim[anthropic,groq,mistral,openai,vertexai]==0.0.14->pydantic_ai) (1.0.6)\n",
      "Requirement already satisfied: python-dateutil<3.0.0,>=2.8.2 in /home/user1/.local/lib/python3.9/site-packages (from mistralai>=1.2.5->pydantic-ai-slim[anthropic,groq,mistral,openai,vertexai]==0.0.14->pydantic_ai) (2.9.0.post0)\n",
      "Requirement already satisfied: tqdm>4 in /home/user1/.local/lib/python3.9/site-packages (from openai>=1.54.3->pydantic-ai-slim[anthropic,groq,mistral,openai,vertexai]==0.0.14->pydantic_ai) (4.67.1)\n",
      "Requirement already satisfied: annotated-types>=0.6.0 in /home/user1/.local/lib/python3.9/site-packages (from pydantic>=2.10->pydantic-ai-slim[anthropic,groq,mistral,openai,vertexai]==0.0.14->pydantic_ai) (0.7.0)\n",
      "Requirement already satisfied: pydantic-core==2.27.2 in /home/user1/.local/lib/python3.9/site-packages (from pydantic>=2.10->pydantic-ai-slim[anthropic,groq,mistral,openai,vertexai]==0.0.14->pydantic_ai) (2.27.2)\n",
      "Requirement already satisfied: urllib3<3,>=1.21.1 in /home/user1/.local/lib/python3.9/site-packages (from requests>=2.32.3->pydantic-ai-slim[anthropic,groq,mistral,openai,vertexai]==0.0.14->pydantic_ai) (1.26.20)\n",
      "Requirement already satisfied: charset-normalizer<4,>=2 in /home/user1/.local/lib/python3.9/site-packages (from requests>=2.32.3->pydantic-ai-slim[anthropic,groq,mistral,openai,vertexai]==0.0.14->pydantic_ai) (3.4.0)\n",
      "Requirement already satisfied: exceptiongroup>=1.0.2 in /home/user1/.local/lib/python3.9/site-packages (from anyio<5,>=3.5.0->anthropic>=0.40.0->pydantic-ai-slim[anthropic,groq,mistral,openai,vertexai]==0.0.14->pydantic_ai) (1.2.2)\n",
      "Requirement already satisfied: pyasn1<0.7.0,>=0.4.6 in /home/user1/.local/lib/python3.9/site-packages (from pyasn1-modules>=0.2.1->google-auth>=2.36.0->pydantic-ai-slim[anthropic,groq,mistral,openai,vertexai]==0.0.14->pydantic_ai) (0.6.1)\n",
      "Requirement already satisfied: six>=1.5 in /home/user1/.local/lib/python3.9/site-packages (from python-dateutil<3.0.0,>=2.8.2->mistralai>=1.2.5->pydantic-ai-slim[anthropic,groq,mistral,openai,vertexai]==0.0.14->pydantic_ai) (1.17.0)\n",
      "Requirement already satisfied: mypy-extensions>=0.3.0 in /home/user1/.local/lib/python3.9/site-packages (from typing-inspect<0.10.0,>=0.9.0->mistralai>=1.2.5->pydantic-ai-slim[anthropic,groq,mistral,openai,vertexai]==0.0.14->pydantic_ai) (1.0.0)\n",
      "\n",
      "\u001b[1m[\u001b[0m\u001b[34;49mnotice\u001b[0m\u001b[1;39;49m]\u001b[0m\u001b[39;49m A new release of pip is available: \u001b[0m\u001b[31;49m23.0.1\u001b[0m\u001b[39;49m -> \u001b[0m\u001b[32;49m24.3.1\u001b[0m\n",
      "\u001b[1m[\u001b[0m\u001b[34;49mnotice\u001b[0m\u001b[1;39;49m]\u001b[0m\u001b[39;49m To update, run: \u001b[0m\u001b[32;49mpip install --upgrade pip\u001b[0m\n"
     ]
    }
   ],
   "source": [
    "!pip install pydantic_ai nest_asyncio"
   ]
  },
  {
   "cell_type": "code",
   "execution_count": 10,
   "metadata": {},
   "outputs": [
    {
     "name": "stdout",
     "output_type": "stream",
     "text": [
      "city='Edwards Air Force Base' country='United States'\n",
      "Usage(requests=1, request_tokens=164, response_tokens=28, total_tokens=192, details=None)\n"
     ]
    }
   ],
   "source": [
    "from pydantic import BaseModel\n",
    "from pydantic_ai import Agent\n",
    "from pydantic_ai.models.ollama import OllamaModel\n",
    "import nest_asyncio\n",
    "\n",
    "# Because we run the code in Jupyter lab, but not needed in production\n",
    "nest_asyncio.apply()\n",
    "\n",
    "ollama_model = OllamaModel(\n",
    "    model_name='llama3.1:8b',  \n",
    "    base_url='http://10.0.0.100:11434/v1',  \n",
    ")\n",
    "\n",
    "\n",
    "class CityLocation(BaseModel):\n",
    "    city: str\n",
    "    country: str\n",
    "\n",
    "\n",
    "agent = Agent(model=ollama_model, result_type=CityLocation)\n",
    "\n",
    "result = agent.run_sync('Where was the first manned space shuttle launched?')\n",
    "print(result.data)\n",
    "#> city='London' country='United Kingdom'\n",
    "print(result.usage())\n",
    "# \"\"\"\n",
    "# Usage(requests=1, request_tokens=57, response_tokens=8, total_tokens=65, details=None)\n",
    "# \"\"\""
   ]
  }
 ],
 "metadata": {
  "kernelspec": {
   "display_name": "Python 3 (ipykernel)",
   "language": "python",
   "name": "python3"
  },
  "language_info": {
   "codemirror_mode": {
    "name": "ipython",
    "version": 3
   },
   "file_extension": ".py",
   "mimetype": "text/x-python",
   "name": "python",
   "nbconvert_exporter": "python",
   "pygments_lexer": "ipython3",
   "version": "3.9.21"
  }
 },
 "nbformat": 4,
 "nbformat_minor": 2
}
